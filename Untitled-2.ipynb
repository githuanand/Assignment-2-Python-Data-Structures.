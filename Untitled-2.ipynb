{
 "cells": [
  {
   "cell_type": "markdown",
   "metadata": {},
   "source": [
    "# PW SKILLS : DATA SCIENCE WITH GENERATIVE AI\n",
    "\n",
    "### Python: Data Structure Assignment (Assignment No 02)\n"
   ]
  },
  {
   "cell_type": "code",
   "execution_count": null,
   "metadata": {},
   "outputs": [
    {
     "name": "stdout",
     "output_type": "stream",
     "text": [
      "Hello\n",
      "Python\n",
      "!nohtyP ,olleH\n",
      "Hlo yhn\n"
     ]
    }
   ],
   "source": [
    "# Example 1\n",
    "# Example of string slicing\n",
    "string = \"Hello, Python!\"\n",
    "\n",
    "# Slicing to get \"Hello\"\n",
    "print(string[:5])  # Output: Hello\n",
    "\n",
    "# Slicing to get \"Python\"\n",
    "print(string[7:13])  # Output: Python\n",
    "\n",
    "# Reverse the string\n",
    "print(string[::-1])  # Output: !nohtyP ,olleH\n",
    "\n",
    "# Skip characters while slicing\n",
    "print(string[::2])  # Output: Hlo yhn\n",
    "\n"
   ]
  },
  {
   "cell_type": "code",
   "execution_count": null,
   "metadata": {},
   "outputs": [
    {
     "name": "stdout",
     "output_type": "stream",
     "text": [
      "[1, 'Python', 3.14, [10, 20]]\n",
      "Python\n",
      "[1, 'Python', 'Pi', [10, 20]]\n",
      "[1, 'Python', 'Pi', [10, 20], 'New']\n",
      "[1, 'Pi', [10, 20], 'New']\n"
     ]
    }
   ],
   "source": [
    "# Example 2\n",
    "my_list = [1, \"Python\", 3.14, [10, 20]]\n",
    "print(my_list)\n",
    "\n",
    "# Accessing element.\n",
    "print(my_list[1])  # Output: Python\n",
    "\n",
    "# Modifying an element\n",
    "my_list[2] = \"Pi\"\n",
    "print(my_list)  # Output: [1, 'Python', 'Pi', [10, 20]]\n",
    "\n",
    "# Adding an element\n",
    "my_list.append(\"New\")\n",
    "print(my_list)  # Output: [1, 'Python', 'Pi', [10, 20], 'New']\n",
    "\n",
    "# Removing an element\n",
    "my_list.remove(\"Python\")\n",
    "print(my_list)  # Output: [1, 'Pi', [10, 20], 'New']\n",
    "\n"
   ]
  },
  {
   "cell_type": "code",
   "execution_count": null,
   "metadata": {},
   "outputs": [
    {
     "name": "stdout",
     "output_type": "stream",
     "text": [
      "[10, 20, 30, 40]\n",
      "10\n",
      "40\n",
      "[10, 20, 300, 40]\n",
      "[10, 300, 40]\n",
      "[10, 40]\n",
      "10\n",
      "[40]\n"
     ]
    }
   ],
   "source": [
    "# Example 3\n",
    "# Accessing Elements\n",
    "lst = [10, 20, 30, 40]\n",
    "print(lst)\n",
    "print(lst[0])  # Access first element (Output: 10)\n",
    "print(lst[-1])  # Access last element (Output: 40)\n",
    "\n",
    "# Modifying Elements\n",
    "lst[2] = 300  # Modify the third element\n",
    "print(lst)  # Output: [10, 20, 300, 40]\n",
    "\n",
    "# Deleting Elements\n",
    "# Using del\n",
    "del lst[1]  # Remove element at index 1\n",
    "print(lst)  # Output: [10, 300, 40]\n",
    "\n",
    "# Using remove()\n",
    "lst.remove(300)  # Remove element by value\n",
    "print(lst)  # Output: [10, 40]\n",
    "\n",
    "# Using pop()\n",
    "popped = lst.pop(0)  # Remove and return the first element\n",
    "print(popped)  # Output: 10\n",
    "print(lst)  # Output: [40]\n"
   ]
  },
  {
   "cell_type": "code",
   "execution_count": null,
   "metadata": {},
   "outputs": [
    {
     "name": "stdout",
     "output_type": "stream",
     "text": [
      "[1, 20, 3]\n"
     ]
    }
   ],
   "source": [
    "# Example 4\n",
    "# List Example\n",
    "my_list = [1, 2, 3]\n",
    "my_list[1] = 20  # Mutable\n",
    "print(my_list)  # Output: [1, 20, 3]\n",
    "\n",
    "# Tuple Example\n",
    "my_tuple = (1, 2, 3)\n",
    "# my_tuple[1] = 20  # Error: Tuples are immutable"
   ]
  },
  {
   "cell_type": "code",
   "execution_count": 9,
   "metadata": {},
   "outputs": [
    {
     "name": "stdout",
     "output_type": "stream",
     "text": [
      "{1, 2, 3}\n",
      "{1, 2, 3, 4}\n",
      "{1, 3, 4}\n",
      "True\n"
     ]
    }
   ],
   "source": [
    "# Example 5\n",
    "# Creating a set\n",
    "my_set = {1, 2, 3, 3}\n",
    "print(my_set)  # Output: {1, 2, 3} (duplicates removed)\n",
    "\n",
    "# Adding an element\n",
    "my_set.add(4)\n",
    "print(my_set)  # Output: {1, 2, 3, 4}\n",
    "\n",
    "# Removing an element\n",
    "my_set.remove(2)\n",
    "print(my_set)  # Output: {1, 3, 4}\n",
    "\n",
    "# Membership testing\n",
    "print(3 in my_set)  # Output: True\n"
   ]
  },
  {
   "cell_type": "code",
   "execution_count": 10,
   "metadata": {},
   "outputs": [
    {
     "name": "stdout",
     "output_type": "stream",
     "text": [
      "{'a': 1, 'b': 2, 'c': 3}\n",
      "{'a': 1, 'b': 20, 'c': 3}\n",
      "{'b': 20, 'c': 3}\n",
      "20\n",
      "{'c': 3}\n"
     ]
    }
   ],
   "source": [
    "# Example 7\n",
    "# Adding Items\n",
    "# Adding new key-value pair\n",
    "my_dict = {\"a\": 1, \"b\": 2}\n",
    "my_dict[\"c\"] = 3\n",
    "print(my_dict)  # Output: {'a': 1, 'b': 2, 'c': 3}\n",
    "\n",
    "# Modifying Items\n",
    "# Modifying value of an existing key\n",
    "my_dict[\"b\"] = 20\n",
    "print(my_dict)  # Output: {'a': 1, 'b': 20, 'c': 3}\n",
    "\n",
    "# Deleting Items\n",
    "# Using del\n",
    "del my_dict[\"a\"]\n",
    "print(my_dict)  # Output: {'b': 20, 'c': 3}\n",
    "\n",
    "# Using pop()\n",
    "value = my_dict.pop(\"b\")\n",
    "print(value)  # Output: 20\n",
    "print(my_dict)  # Output: {'c': 3}\n",
    "\n",
    "\n"
   ]
  },
  {
   "cell_type": "code",
   "execution_count": 12,
   "metadata": {},
   "outputs": [
    {
     "name": "stdout",
     "output_type": "stream",
     "text": [
      "{(1, 2): 'Tuple as key'}\n"
     ]
    },
    {
     "ename": "TypeError",
     "evalue": "unhashable type: 'list'",
     "output_type": "error",
     "traceback": [
      "\u001b[1;31m---------------------------------------------------------------------------\u001b[0m",
      "\u001b[1;31mTypeError\u001b[0m                                 Traceback (most recent call last)",
      "Cell \u001b[1;32mIn[12], line 7\u001b[0m\n\u001b[0;32m      4\u001b[0m \u001b[38;5;28mprint\u001b[39m(valid_dict)  \u001b[38;5;66;03m# Output: {(1, 2): 'Tuple as key'}\u001b[39;00m\n\u001b[0;32m      6\u001b[0m \u001b[38;5;66;03m# Invalid dictionary\u001b[39;00m\n\u001b[1;32m----> 7\u001b[0m invalid_dict \u001b[38;5;241m=\u001b[39m {[\u001b[38;5;241m1\u001b[39m, \u001b[38;5;241m2\u001b[39m]: \u001b[38;5;124m\"\u001b[39m\u001b[38;5;124mList as key\u001b[39m\u001b[38;5;124m\"\u001b[39m}  \u001b[38;5;66;03m# Error: TypeError\u001b[39;00m\n",
      "\u001b[1;31mTypeError\u001b[0m: unhashable type: 'list'"
     ]
    }
   ],
   "source": [
    "# Example 8\n",
    "# Valid dictionary\n",
    "valid_dict = {(1, 2): \"Tuple as key\"}\n",
    "print(valid_dict)  # Output: {(1, 2): 'Tuple as key'}\n",
    "\n",
    "# Invalid dictionary\n",
    "invalid_dict = {[1, 2]: \"List as key\"}  # Error: TypeError\n"
   ]
  }
 ],
 "metadata": {
  "kernelspec": {
   "display_name": "Python 3",
   "language": "python",
   "name": "python3"
  },
  "language_info": {
   "codemirror_mode": {
    "name": "ipython",
    "version": 3
   },
   "file_extension": ".py",
   "mimetype": "text/x-python",
   "name": "python",
   "nbconvert_exporter": "python",
   "pygments_lexer": "ipython3",
   "version": "3.12.5"
  }
 },
 "nbformat": 4,
 "nbformat_minor": 2
}
